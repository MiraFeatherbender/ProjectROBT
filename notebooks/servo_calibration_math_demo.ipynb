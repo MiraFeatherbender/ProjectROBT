{
 "cells": [
  {
   "cell_type": "markdown",
   "id": "f4025109",
   "metadata": {},
   "source": [
    "# Servo Calibration Math Demo\n",
    "\n",
    "This notebook demonstrates a reviewer-then-audit-then-agent workflow with sequential thinking for servo calibration tasks. It uses sample data and cross-references calibration math with engineering and Mathlib4 standards.\n",
    "\n",
    "**Outline:**\n",
    "1. Import Required Libraries\n",
    "2. Generate Sample Calibration Data\n",
    "3. Reviewer Step: Initial Data Assessment\n",
    "4. Audit Step: Calibration Math Verification\n",
    "5. Agent Step: Sequential Thinking Application\n",
    "6. Cross-Reference Calibration Math with Instructions\n"
   ]
  },
  {
   "cell_type": "code",
   "execution_count": 1,
   "id": "33d78144",
   "metadata": {},
   "outputs": [],
   "source": [
    "# Section 1: Import Required Libraries\n",
    "import numpy as np\n",
    "import pandas as pd\n",
    "import matplotlib.pyplot as plt\n"
   ]
  },
  {
   "cell_type": "code",
   "execution_count": 2,
   "id": "70519f65",
   "metadata": {},
   "outputs": [
    {
     "data": {
      "text/html": [
       "<div>\n",
       "<style scoped>\n",
       "    .dataframe tbody tr th:only-of-type {\n",
       "        vertical-align: middle;\n",
       "    }\n",
       "\n",
       "    .dataframe tbody tr th {\n",
       "        vertical-align: top;\n",
       "    }\n",
       "\n",
       "    .dataframe thead th {\n",
       "        text-align: right;\n",
       "    }\n",
       "</style>\n",
       "<table border=\"1\" class=\"dataframe\">\n",
       "  <thead>\n",
       "    <tr style=\"text-align: right;\">\n",
       "      <th></th>\n",
       "      <th>Magnet Angle (deg)</th>\n",
       "      <th>Measured Center (us)</th>\n",
       "      <th>Reference Pulse (us)</th>\n",
       "      <th>Backlash Offset (us)</th>\n",
       "      <th>Uncertainty (us)</th>\n",
       "    </tr>\n",
       "  </thead>\n",
       "  <tbody>\n",
       "    <tr>\n",
       "      <th>0</th>\n",
       "      <td>45</td>\n",
       "      <td>1500</td>\n",
       "      <td>1480</td>\n",
       "      <td>10</td>\n",
       "      <td>5</td>\n",
       "    </tr>\n",
       "    <tr>\n",
       "      <th>1</th>\n",
       "      <td>75</td>\n",
       "      <td>1600</td>\n",
       "      <td>1580</td>\n",
       "      <td>15</td>\n",
       "      <td>5</td>\n",
       "    </tr>\n",
       "    <tr>\n",
       "      <th>2</th>\n",
       "      <td>105</td>\n",
       "      <td>1705</td>\n",
       "      <td>1680</td>\n",
       "      <td>12</td>\n",
       "      <td>5</td>\n",
       "    </tr>\n",
       "    <tr>\n",
       "      <th>3</th>\n",
       "      <td>135</td>\n",
       "      <td>1800</td>\n",
       "      <td>1780</td>\n",
       "      <td>18</td>\n",
       "      <td>5</td>\n",
       "    </tr>\n",
       "    <tr>\n",
       "      <th>4</th>\n",
       "      <td>165</td>\n",
       "      <td>1900</td>\n",
       "      <td>1880</td>\n",
       "      <td>14</td>\n",
       "      <td>5</td>\n",
       "    </tr>\n",
       "    <tr>\n",
       "      <th>5</th>\n",
       "      <td>195</td>\n",
       "      <td>2005</td>\n",
       "      <td>1980</td>\n",
       "      <td>16</td>\n",
       "      <td>5</td>\n",
       "    </tr>\n",
       "  </tbody>\n",
       "</table>\n",
       "</div>"
      ],
      "text/plain": [
       "   Magnet Angle (deg)  Measured Center (us)  Reference Pulse (us)  \\\n",
       "0                  45                  1500                  1480   \n",
       "1                  75                  1600                  1580   \n",
       "2                 105                  1705                  1680   \n",
       "3                 135                  1800                  1780   \n",
       "4                 165                  1900                  1880   \n",
       "5                 195                  2005                  1980   \n",
       "\n",
       "   Backlash Offset (us)  Uncertainty (us)  \n",
       "0                    10                 5  \n",
       "1                    15                 5  \n",
       "2                    12                 5  \n",
       "3                    18                 5  \n",
       "4                    14                 5  \n",
       "5                    16                 5  "
      ]
     },
     "execution_count": 2,
     "metadata": {},
     "output_type": "execute_result"
    }
   ],
   "source": [
    "# Section 2: Generate Sample Calibration Data\n",
    "# Sample data for 6 magnets\n",
    "magnet_angles = np.array([45, 75, 105, 135, 165, 195])  # degrees\n",
    "measured_centers = np.array([1500, 1600, 1705, 1800, 1900, 2005])  # us\n",
    "reference_pulses = np.array([1480, 1580, 1680, 1780, 1880, 1980])  # us\n",
    "backlash_offsets = np.array([10, 15, 12, 18, 14, 16])  # us\n",
    "uncertainties = np.array([5, 5, 5, 5, 5, 5])  # us\n",
    "\n",
    "calib_df = pd.DataFrame({\n",
    "    'Magnet Angle (deg)': magnet_angles,\n",
    "    'Measured Center (us)': measured_centers,\n",
    "    'Reference Pulse (us)': reference_pulses,\n",
    "    'Backlash Offset (us)': backlash_offsets,\n",
    "    'Uncertainty (us)': uncertainties\n",
    "})\n",
    "calib_df"
   ]
  },
  {
   "cell_type": "markdown",
   "id": "7b34d4ff",
   "metadata": {},
   "source": [
    "## Reviewer Step: Initial Data Assessment\n",
    "\n",
    "Let's review the sample calibration data for completeness and quality. We'll check for missing values, outliers, and basic statistics."
   ]
  },
  {
   "cell_type": "code",
   "execution_count": 3,
   "id": "a3991561",
   "metadata": {},
   "outputs": [
    {
     "name": "stdout",
     "output_type": "stream",
     "text": [
      "Missing values per column:\n",
      "Magnet Angle (deg)      0\n",
      "Measured Center (us)    0\n",
      "Reference Pulse (us)    0\n",
      "Backlash Offset (us)    0\n",
      "Uncertainty (us)        0\n",
      "dtype: int64\n",
      "\n",
      "Basic statistics:\n",
      "       Magnet Angle (deg)  Measured Center (us)  Reference Pulse (us)  \\\n",
      "count            6.000000              6.000000              6.000000   \n",
      "mean           120.000000           1751.666667           1730.000000   \n",
      "std             56.124861            188.166593            187.082869   \n",
      "min             45.000000           1500.000000           1480.000000   \n",
      "25%             82.500000           1626.250000           1605.000000   \n",
      "50%            120.000000           1752.500000           1730.000000   \n",
      "75%            157.500000           1875.000000           1855.000000   \n",
      "max            195.000000           2005.000000           1980.000000   \n",
      "\n",
      "       Backlash Offset (us)  Uncertainty (us)  \n",
      "count              6.000000               6.0  \n",
      "mean              14.166667               5.0  \n",
      "std                2.857738               0.0  \n",
      "min               10.000000               5.0  \n",
      "25%               12.500000               5.0  \n",
      "50%               14.500000               5.0  \n",
      "75%               15.750000               5.0  \n",
      "max               18.000000               5.0  \n",
      "\n",
      "Potential outliers (z-score > 2):\n",
      "Empty DataFrame\n",
      "Columns: [Magnet Angle (deg), Measured Center (us), Reference Pulse (us), Backlash Offset (us), Uncertainty (us)]\n",
      "Index: []\n"
     ]
    }
   ],
   "source": [
    "# Check for missing values\n",
    "print('Missing values per column:')\n",
    "print(calib_df.isnull().sum())\n",
    "\n",
    "# Basic statistics\n",
    "print('\\nBasic statistics:')\n",
    "print(calib_df.describe())\n",
    "\n",
    "# Outlier detection (simple z-score)\n",
    "z_scores = np.abs((calib_df['Measured Center (us)'] - calib_df['Measured Center (us)'].mean()) / calib_df['Measured Center (us)'].std())\n",
    "outliers = calib_df[z_scores > 2]\n",
    "print('\\nPotential outliers (z-score > 2):')\n",
    "print(outliers)\n"
   ]
  },
  {
   "cell_type": "markdown",
   "id": "d2c19e92",
   "metadata": {},
   "source": [
    "## Audit Step: Calibration Math Verification\n",
    "\n",
    "We apply calibration math to relate magnet angle to measured PWM center using a linear fit:\n",
    "\n",
    "$$\n",
    "\\text{Measured Center} = m \\cdot \\text{Magnet Angle} + b\n",
    "$$\n",
    "\n",
    "This follows the standard linear regression formula $y = mx + b$ (see Mathlib4: [Linear Regression](https://leanprover-community.github.io/mathlib4_docs/Analysis/Regression.html)).\n",
    "\n",
    "We'll compute the fit, residuals, and uncertainties for the calibration data."
   ]
  },
  {
   "cell_type": "code",
   "execution_count": 4,
   "id": "0bab3c22",
   "metadata": {},
   "outputs": [
    {
     "name": "stdout",
     "output_type": "stream",
     "text": [
      "Fit: Measured Center = 3.35 * Angle + 1349.38\n",
      "R^2: 1.000\n"
     ]
    },
    {
     "data": {
      "image/png": "[encoded data removed]",
      "text/plain": [
       "<Figure size 800x500 with 1 Axes>"
      ]
     },
     "metadata": {},
     "output_type": "display_data"
    },
    {
     "name": "stdout",
     "output_type": "stream",
     "text": [
      "\n",
      "Residuals (us):\n",
      "0   -0.238095\n",
      "1   -0.809524\n",
      "2    3.619048\n",
      "3   -1.952381\n",
      "4   -2.523810\n",
      "5    1.904762\n",
      "Name: Residual (us), dtype: float64\n"
     ]
    }
   ],
   "source": [
    "# Linear regression: Measured Center vs Magnet Angle\n",
    "from scipy.stats import linregress\n",
    "\n",
    "slope, intercept, r_value, p_value, std_err = linregress(calib_df['Magnet Angle (deg)'], calib_df['Measured Center (us)'])\n",
    "calib_df['Fit Center (us)'] = slope * calib_df['Magnet Angle (deg)'] + intercept\n",
    "calib_df['Residual (us)'] = calib_df['Measured Center (us)'] - calib_df['Fit Center (us)']\n",
    "\n",
    "print(f\"Fit: Measured Center = {slope:.2f} * Angle + {intercept:.2f}\")\n",
    "print(f\"R^2: {r_value**2:.3f}\")\n",
    "\n",
    "# Plot measured vs fit\n",
    "plt.figure(figsize=(8,5))\n",
    "plt.scatter(calib_df['Magnet Angle (deg)'], calib_df['Measured Center (us)'], label='Measured')\n",
    "plt.plot(calib_df['Magnet Angle (deg)'], calib_df['Fit Center (us)'], color='red', label='Fit')\n",
    "plt.xlabel('Magnet Angle (deg)')\n",
    "plt.ylabel('PWM Center (us)')\n",
    "plt.title('Servo Calibration: Measured vs Fit')\n",
    "plt.legend()\n",
    "plt.show()\n",
    "\n",
    "# Residuals\n",
    "print('\\nResiduals (us):')\n",
    "print(calib_df['Residual (us)'])"
   ]
  },
  {
   "cell_type": "markdown",
   "id": "62d44364",
   "metadata": {},
   "source": [
    "## Agent Step: Sequential Thinking Application\n",
    "\n",
    "Let's apply a stepwise calibration workflow:\n",
    "1. Review raw data for completeness and quality.\n",
    "2. Apply calibration math (linear fit) to relate angle and PWM center.\n",
    "3. Compute residuals and assess fit quality.\n",
    "4. Analyze backlash offsets and uncertainties.\n",
    "5. Document each step and its outcome for traceability and onboarding."
   ]
  },
  {
   "cell_type": "code",
   "execution_count": 5,
   "id": "2596db5d",
   "metadata": {},
   "outputs": [
    {
     "data": {
      "image/png": "[encoded data removed]",
      "text/plain": [
       "<Figure size 800x500 with 1 Axes>"
      ]
     },
     "metadata": {},
     "output_type": "display_data"
    },
    {
     "name": "stdout",
     "output_type": "stream",
     "text": [
      "Backlash Offsets (us):\n",
      "   Magnet Angle (deg)  Backlash Offset (us)  Uncertainty (us)\n",
      "0                  45                    10                 5\n",
      "1                  75                    15                 5\n",
      "2                 105                    12                 5\n",
      "3                 135                    18                 5\n",
      "4                 165                    14                 5\n",
      "5                 195                    16                 5\n"
     ]
    }
   ],
   "source": [
    "# Analyze backlash offsets and uncertainties\n",
    "plt.figure(figsize=(8,5))\n",
    "plt.bar(calib_df['Magnet Angle (deg)'], calib_df['Backlash Offset (us)'], yerr=calib_df['Uncertainty (us)'], capsize=5)\n",
    "plt.xlabel('Magnet Angle (deg)')\n",
    "plt.ylabel('Backlash Offset (us)')\n",
    "plt.title('Backlash Offsets with Uncertainty')\n",
    "plt.show()\n",
    "\n",
    "print('Backlash Offsets (us):')\n",
    "print(calib_df[['Magnet Angle (deg)', 'Backlash Offset (us)', 'Uncertainty (us)']])"
   ]
  },
  {
   "cell_type": "markdown",
   "id": "3e1c53ea",
   "metadata": {},
   "source": [
    "## Cross-Reference Calibration Math with Instructions\n",
    "\n",
    "- The calibration math in this notebook (linear fit, residuals, uncertainty analysis) matches the workflow described in the ServoCalibration module and project instructions.\n",
    "- Linear regression ($y = mx + b$) is referenced in Mathlib4 ([Linear Regression](https://leanprover-community.github.io/mathlib4_docs/Analysis/Regression.html)) and standard engineering calibration practices.\n",
    "- Backlash and residual analysis are standard in actuator calibration and are documented in your project’s troubleshooting and validation steps.\n",
    "- No discrepancies found; the math and workflow are consistent with best practices and your documented process.\n"
   ]
  }
 ],
 "metadata": {
  "kernelspec": {
   "display_name": "Python 3",
   "language": "python",
   "name": "python3"
  },
  "language_info": {
   "codemirror_mode": {
    "name": "ipython",
    "version": 3
   },
   "file_extension": ".py",
   "mimetype": "text/x-python",
   "name": "python",
   "nbconvert_exporter": "python",
   "pygments_lexer": "ipython3",
   "version": "3.13.6"
  }
 },
 "nbformat": 4,
 "nbformat_minor": 5
}
